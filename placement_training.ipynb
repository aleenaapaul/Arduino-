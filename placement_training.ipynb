{
  "cells": [
    {
      "cell_type": "markdown",
      "metadata": {
        "id": "view-in-github",
        "colab_type": "text"
      },
      "source": [
        "<a href=\"https://colab.research.google.com/github/aleenaapaul/Arduino-/blob/main/placement_training.ipynb\" target=\"_parent\"><img src=\"https://colab.research.google.com/assets/colab-badge.svg\" alt=\"Open In Colab\"/></a>"
      ]
    },
    {
      "cell_type": "markdown",
      "metadata": {
        "id": "_cJwJ5MKb3OS"
      },
      "source": []
    },
    {
      "cell_type": "markdown",
      "metadata": {
        "id": "QSBzzMDLb4yy"
      },
      "source": [
        "1)write code for getting an input integer number 'n' and print sum of all even and odd digits in it separately"
      ]
    },
    {
      "cell_type": "code",
      "execution_count": null,
      "metadata": {
        "colab": {
          "base_uri": "https://localhost:8080/"
        },
        "id": "3Mh5JOzvcDUS",
        "outputId": "b09ed8ed-f5da-4c34-9952-a3b111c27b9a"
      },
      "outputs": [
        {
          "name": "stdout",
          "output_type": "stream",
          "text": [
            "123456\n",
            "12\n",
            "9\n"
          ]
        }
      ],
      "source": [
        "n=int(input())\n",
        "esum=0;\n",
        "osum=0;\n",
        "while (n>0):\n",
        "  ld=n%10;\n",
        "  if ld%2==0:\n",
        "      esum=esum+ld\n",
        "  else:\n",
        "      osum=osum+ld\n",
        "  n=n//10\n",
        "\n",
        "print(esum)\n",
        "print(osum)\n"
      ]
    },
    {
      "cell_type": "markdown",
      "metadata": {
        "id": "4uQjwD40dDQE"
      },
      "source": [
        "2)write code for getting an input integer number 'n' and print the series -1 2 4 8 16 32 .....n"
      ]
    },
    {
      "cell_type": "code",
      "execution_count": null,
      "metadata": {
        "colab": {
          "base_uri": "https://localhost:8080/"
        },
        "id": "K_ddJJdMdOG7",
        "outputId": "04111657-221d-404a-941d-fb37be77729b"
      },
      "outputs": [
        {
          "name": "stdout",
          "output_type": "stream",
          "text": [
            "128\n",
            "1 2 4 8 16 32 64 128 256\n"
          ]
        }
      ],
      "source": [
        "n=int(input())\n",
        "t=1\n",
        "while(t<=n):\n",
        "  print(t,end=\" \")\n",
        "  t=t*2\n",
        "print(t)\n"
      ]
    },
    {
      "cell_type": "markdown",
      "metadata": {
        "id": "lG139SJwguPa"
      },
      "source": [
        "3)write code for getting an input integer number 'n' and find the sum of series  s=2/7-5/11+8/15-11/19+.....n terms"
      ]
    },
    {
      "cell_type": "code",
      "execution_count": null,
      "metadata": {
        "colab": {
          "base_uri": "https://localhost:8080/"
        },
        "id": "DEwd9lMHiYz6",
        "outputId": "b4b76bcc-58c5-4332-b749-dcf451758edd"
      },
      "outputs": [
        {
          "name": "stdout",
          "output_type": "stream",
          "text": [
            "3\n",
            "0.364502\n"
          ]
        }
      ],
      "source": [
        "n=int(input())\n",
        "s=0;\n",
        "j=2;\n",
        "k=7;\n",
        "sign=1;\n",
        "for i in range(1,n+1):\n",
        "    term=j/k\n",
        "    s=s+sign*term\n",
        "    j=j+3\n",
        "    k=k+4\n",
        "    sign=sign*-1\n",
        "print(f\"{s:.6f}\")"
      ]
    },
    {
      "cell_type": "markdown",
      "metadata": {
        "id": "ibmD2q7FmZwi"
      },
      "source": [
        "4)write code for getting an input integer number 'n' and check whether it is a prime number or not"
      ]
    },
    {
      "cell_type": "code",
      "execution_count": null,
      "metadata": {
        "colab": {
          "base_uri": "https://localhost:8080/"
        },
        "id": "S5YM5yCxml1q",
        "outputId": "40ac258d-919a-40cb-dd07-17c7dd679aba"
      },
      "outputs": [
        {
          "name": "stdout",
          "output_type": "stream",
          "text": [
            "17\n",
            "prime\n"
          ]
        }
      ],
      "source": [
        "n=int(input())\n",
        "flag=0;\n",
        "for i in range(2,n//2+1):\n",
        "    if(n%i==0):\n",
        "        flag=1;\n",
        "        break\n",
        "if(flag==0):\n",
        "    print(\"prime\")\n",
        "else:\n",
        "    print(\"not prime\")"
      ]
    },
    {
      "cell_type": "code",
      "execution_count": null,
      "metadata": {
        "colab": {
          "base_uri": "https://localhost:8080/"
        },
        "id": "rZ--itpE2Yux",
        "outputId": "4702dea0-c445-4076-c83c-3f799b08b8fb"
      },
      "outputs": [
        {
          "name": "stdout",
          "output_type": "stream",
          "text": [
            "4\n",
            "   * \n",
            "  * * \n",
            " * * * \n",
            "* * * * \n"
          ]
        }
      ],
      "source": [
        "n=int(input())\n",
        "for i in range(1,n+1,1):\n",
        "    for j in range(1,n-i+1,1):\n",
        "        print(\" \",end=\"\")\n",
        "    for k in range(1,i+1,1):\n",
        "        print(\"* \",end=\"\")\n",
        "    print()"
      ]
    },
    {
      "cell_type": "code",
      "execution_count": null,
      "metadata": {
        "colab": {
          "base_uri": "https://localhost:8080/"
        },
        "id": "Yiq9QSBW2eAY",
        "outputId": "877a27b9-1fa2-458b-b254-8286fcacc75e"
      },
      "outputs": [
        {
          "name": "stdout",
          "output_type": "stream",
          "text": [
            "4\n",
            "   A \n",
            "  A B \n",
            " A B C \n",
            "A B C D \n"
          ]
        }
      ],
      "source": [
        "n=int(input())\n",
        "for i in range(1,n+1,1):\n",
        "    for j in range(1,n-i+1,1):\n",
        "        print(\" \",end=\"\")\n",
        "    for k in range(1,i+1,1):\n",
        "        print(chr(ord('A')+k-1),end=\" \")\n",
        "    print()"
      ]
    },
    {
      "cell_type": "markdown",
      "metadata": {
        "id": "svcG0yTtcD06"
      },
      "source": []
    },
    {
      "cell_type": "code",
      "execution_count": null,
      "metadata": {
        "colab": {
          "base_uri": "https://localhost:8080/"
        },
        "id": "UFrIOryt6hPI",
        "outputId": "599ce74f-ea9c-4de7-e562-63905876b22d"
      },
      "outputs": [
        {
          "name": "stdout",
          "output_type": "stream",
          "text": [
            "3\n",
            "***\n",
            "**\n",
            "*\n",
            "**\n",
            "***\n"
          ]
        }
      ],
      "source": [
        "n=int(input())\n",
        "for i in range(1,n+1,1):\n",
        "    for j in range(1,n-i+2,1):\n",
        "        print(\"*\",end=\"\")\n",
        "    print()\n",
        "for i in range(1,n,1):\n",
        "    for j in range(1,i+2,1):\n",
        "        print(\"*\",end=\"\")\n",
        "    print()"
      ]
    },
    {
      "cell_type": "code",
      "execution_count": null,
      "metadata": {
        "colab": {
          "base_uri": "https://localhost:8080/"
        },
        "id": "jMpmxFcb6j-w",
        "outputId": "ffe80919-5a1c-495f-a5fd-48c2066b94d7"
      },
      "outputs": [
        {
          "name": "stdout",
          "output_type": "stream",
          "text": [
            "3\n",
            "2\n",
            "-11\n"
          ]
        }
      ],
      "source": [
        "n=int(input())\n",
        "a=int(input())\n",
        "s=1;\n",
        "sign=1;\n",
        "for i in range(1,n):\n",
        "    t=2*i\n",
        "    term=a**t\n",
        "    s=s+sign*term\n",
        "    sign=sign*-1\n",
        "print(s)"
      ]
    },
    {
      "cell_type": "code",
      "execution_count": null,
      "metadata": {
        "colab": {
          "base_uri": "https://localhost:8080/"
        },
        "id": "JL-4cDN_rSg0",
        "outputId": "ff06136c-5bc1-4511-dd29-22929d92bd14"
      },
      "outputs": [
        {
          "name": "stdout",
          "output_type": "stream",
          "text": [
            "4\n",
            "   *\n",
            "  **\n",
            " ***\n",
            "****\n",
            " ***\n",
            "  **\n",
            "   *\n"
          ]
        }
      ],
      "source": [
        "n=int(input())\n",
        "for i in range(1,n+1,1):\n",
        "    for j in range(1,n-i+1,1):\n",
        "        print(\" \",end=\"\")\n",
        "    for k in range(1,i+1,1):\n",
        "        print(\"*\",end=\"\")\n",
        "    print()\n",
        "for i in range(1,n):\n",
        "    for j in range(1,i+1):\n",
        "        print(\" \",end=\"\")\n",
        "    for k in range(1,n-i+1,1):\n",
        "        print(\"*\",end=\"\")\n",
        "    print()"
      ]
    },
    {
      "cell_type": "code",
      "execution_count": null,
      "metadata": {
        "colab": {
          "base_uri": "https://localhost:8080/"
        },
        "id": "fHszKMBByPbb",
        "outputId": "eb2ceb31-2768-4c89-ff61-a8918db3a8ac"
      },
      "outputs": [
        {
          "name": "stdout",
          "output_type": "stream",
          "text": [
            "4\n",
            "   A\n",
            "  B C\n",
            " D   E\n",
            "FGHIJKL\n"
          ]
        }
      ],
      "source": [
        "n=int(input())\n",
        "inc=0;\n",
        "for i in range(1,n+1,1):\n",
        "    for j in range(1,n-i+1,1):\n",
        "        print(\" \",end=\"\")\n",
        "    for k in range(1,2*i,1):\n",
        "        if k==1 or k==2*i-1 or i==n:\n",
        "            print(chr(ord('A')+inc),end=\"\")\n",
        "            inc=(inc+1)%26\n",
        "        else:\n",
        "            print(\" \",end=\"\")\n",
        "    print()"
      ]
    },
    {
      "cell_type": "markdown",
      "metadata": {
        "id": "xz6mPIyKhEyU"
      },
      "source": [
        "given an integer 'n',check"
      ]
    },
    {
      "cell_type": "code",
      "execution_count": null,
      "metadata": {
        "colab": {
          "base_uri": "https://localhost:8080/"
        },
        "id": "Q1XBLU3Fj6sN",
        "outputId": "e5821377-7f08-46d3-97e4-6228b2843093"
      },
      "outputs": [
        {
          "name": "stdout",
          "output_type": "stream",
          "text": [
            "500\n",
            "6\n"
          ]
        }
      ],
      "source": [
        "n=int(input())\n",
        "step=0;\n",
        "while(n>0):\n",
        "    step=step+1\n",
        "    if(n%5==0):\n",
        "        n=n//5\n",
        "    elif(n%3==0):\n",
        "        n=n//3\n",
        "    elif(n%2==0):\n",
        "        n=n//2\n",
        "    else:\n",
        "        n=n-1\n",
        "print(step)"
      ]
    },
    {
      "cell_type": "code",
      "execution_count": null,
      "metadata": {
        "id": "3lwTEOB6oOBX"
      },
      "outputs": [],
      "source": [
        "n=int(input())\n",
        "t=10;k=5\n",
        "\n",
        "if n>0 and n<=k :\n",
        "    print(\"NUMBER OF CANDIES SOLD:\",n )\n",
        "    print(\"NUMBER OF CANDIES LEFT:\",t-n)\n",
        "else:\n",
        "    print(\"INVALID INPUT\\n\" \"NUMBER OF CANDIES LEFT:\",t-n)"
      ]
    },
    {
      "cell_type": "code",
      "execution_count": null,
      "metadata": {
        "colab": {
          "base_uri": "https://localhost:8080/"
        },
        "id": "DYJzIO1NsyP9",
        "outputId": "c740e81b-6188-4151-f511-afc1c4f19bfd"
      },
      "outputs": [
        {
          "name": "stdout",
          "output_type": "stream",
          "text": [
            "[10, 20, 30, 40, 50]\n",
            "10 20 30 40 50\n",
            "10~20~30~40~50\n"
          ]
        }
      ],
      "source": [
        "L1=[10,20,30,40,50]\n",
        "print(L1)\n",
        "print(*L1)\n",
        "print(*L1,sep=\"~\")"
      ]
    },
    {
      "cell_type": "code",
      "execution_count": null,
      "metadata": {
        "colab": {
          "base_uri": "https://localhost:8080/"
        },
        "id": "VbXlEF2p15oq",
        "outputId": "24e548da-729b-43f6-dbc1-9163cb5cf269"
      },
      "outputs": [
        {
          "name": "stdout",
          "output_type": "stream",
          "text": [
            "30\n"
          ]
        }
      ],
      "source": [
        "L1=[10,20,30,40,50]\n",
        "print(L1[2])"
      ]
    },
    {
      "cell_type": "code",
      "execution_count": null,
      "metadata": {
        "colab": {
          "base_uri": "https://localhost:8080/"
        },
        "id": "DAkJHDJA2Egh",
        "outputId": "3f1777b2-8ab7-46d9-f69a-028dddc0c008"
      },
      "outputs": [
        {
          "name": "stdout",
          "output_type": "stream",
          "text": [
            "python\n"
          ]
        }
      ],
      "source": [
        "str1=\"python\"\n",
        "print(str1)"
      ]
    },
    {
      "cell_type": "code",
      "execution_count": null,
      "metadata": {
        "colab": {
          "base_uri": "https://localhost:8080/"
        },
        "id": "S8IV2pwn2ejZ",
        "outputId": "66c489bb-5dd6-45ad-e8c0-1ed273cf70fb"
      },
      "outputs": [
        {
          "name": "stdout",
          "output_type": "stream",
          "text": [
            "t\n"
          ]
        }
      ],
      "source": [
        "str1=\"python\"\n",
        "print(str1[2])"
      ]
    },
    {
      "cell_type": "code",
      "execution_count": null,
      "metadata": {
        "colab": {
          "base_uri": "https://localhost:8080/"
        },
        "id": "EY14Vrcc2iHQ",
        "outputId": "370a7837-97d8-403d-a584-09575f216307"
      },
      "outputs": [
        {
          "name": "stdout",
          "output_type": "stream",
          "text": [
            "[]\n",
            "\n"
          ]
        }
      ],
      "source": [
        "L1=[]\n",
        "str1=\"\"\n",
        "print(L1)\n",
        "print(str1)"
      ]
    },
    {
      "cell_type": "code",
      "execution_count": null,
      "metadata": {
        "colab": {
          "base_uri": "https://localhost:8080/"
        },
        "id": "e2FlRjs72zPZ",
        "outputId": "9205281b-25ed-4cbf-a690-462d553ced19"
      },
      "outputs": [
        {
          "name": "stdout",
          "output_type": "stream",
          "text": [
            "0 0 0 0 0\n",
            "ABCABCABCABCABC\n"
          ]
        }
      ],
      "source": [
        "L1=[0]*5\n",
        "print(*L1)\n",
        "str1=\"ABC\"*5\n",
        "print(str1)"
      ]
    },
    {
      "cell_type": "code",
      "execution_count": null,
      "metadata": {
        "colab": {
          "base_uri": "https://localhost:8080/"
        },
        "id": "Ju-uoaVo3FxB",
        "outputId": "e9023589-2b06-48df-d5fd-b93c0172e223"
      },
      "outputs": [
        {
          "name": "stdout",
          "output_type": "stream",
          "text": [
            "[10, 20, 30, 40, 50]\n"
          ]
        }
      ],
      "source": [
        "L1=[10,20,30]\n",
        "L2=[40,50]\n",
        "L3=L1+L2\n",
        "print(L3)"
      ]
    },
    {
      "cell_type": "code",
      "execution_count": null,
      "metadata": {
        "colab": {
          "base_uri": "https://localhost:8080/"
        },
        "id": "3tl60xqF3gaw",
        "outputId": "c1fa6cee-fc3f-438a-f149-a43107e2b205"
      },
      "outputs": [
        {
          "name": "stdout",
          "output_type": "stream",
          "text": [
            "aleenapaul\n"
          ]
        }
      ],
      "source": [
        "str1=\"aleena\"\n",
        "str2=\"paul\"\n",
        "str3=str1+str2\n",
        "print(str3)"
      ]
    },
    {
      "cell_type": "code",
      "execution_count": null,
      "metadata": {
        "colab": {
          "base_uri": "https://localhost:8080/"
        },
        "id": "BS7l3ts-3huQ",
        "outputId": "1f4d62b6-c928-4e13-cb5f-e908bc34bc45"
      },
      "outputs": [
        {
          "name": "stdout",
          "output_type": "stream",
          "text": [
            "10 20 850 40 50\n"
          ]
        }
      ],
      "source": [
        "L=[10,20,30,40,50]\n",
        "L[2]=850\n",
        "print(*L)"
      ]
    },
    {
      "cell_type": "code",
      "execution_count": null,
      "metadata": {
        "colab": {
          "base_uri": "https://localhost:8080/"
        },
        "id": "Nm0vOIAm3tB5",
        "outputId": "dff39f43-3687-4f34-93cd-b717b8a8e7c0"
      },
      "outputs": [
        {
          "name": "stdout",
          "output_type": "stream",
          "text": [
            "10 20 30 40 50 850\n"
          ]
        }
      ],
      "source": [
        "L=[10,20,30,40,50]\n",
        "L.append(850)\n",
        "print(*L)"
      ]
    },
    {
      "cell_type": "code",
      "execution_count": null,
      "metadata": {
        "colab": {
          "base_uri": "https://localhost:8080/"
        },
        "id": "8GhT6sz036pQ",
        "outputId": "cfc04838-d5e0-4f4c-fa47-34fa3d05e26e"
      },
      "outputs": [
        {
          "name": "stdout",
          "output_type": "stream",
          "text": [
            "30\n",
            "a\n",
            "n\n"
          ]
        }
      ],
      "source": [
        "L=[10,20,30]\n",
        "str1=\"aleena\"\n",
        "print(L[-1])\n",
        "print(str1[-1])\n",
        "print(str1[-2])"
      ]
    },
    {
      "cell_type": "code",
      "execution_count": null,
      "metadata": {
        "colab": {
          "base_uri": "https://localhost:8080/"
        },
        "id": "8ujaAf9o4SAB",
        "outputId": "f5c46fcc-52d6-4f80-d530-3cb52ece1127"
      },
      "outputs": [
        {
          "name": "stdout",
          "output_type": "stream",
          "text": [
            "30\n",
            "10\n",
            "60\n"
          ]
        }
      ],
      "source": [
        "L=[10,20,30]\n",
        "print(max(L))\n",
        "print(min(L))\n",
        "print(sum(L))"
      ]
    },
    {
      "cell_type": "code",
      "execution_count": null,
      "metadata": {
        "colab": {
          "base_uri": "https://localhost:8080/"
        },
        "id": "BQVNWBCB4q0Y",
        "outputId": "6988d5a3-a421-479a-9180-8c350facd7c8"
      },
      "outputs": [
        {
          "name": "stdout",
          "output_type": "stream",
          "text": [
            "10 20 900 30 40 50\n"
          ]
        }
      ],
      "source": [
        "L=[10,20,30,40,50]\n",
        "L.insert(2,900)\n",
        "print(*L)"
      ]
    },
    {
      "cell_type": "code",
      "execution_count": null,
      "metadata": {
        "colab": {
          "base_uri": "https://localhost:8080/"
        },
        "id": "KxCECaLS5OXw",
        "outputId": "31fd1e15-a0e2-4729-d708-3e60720985f3"
      },
      "outputs": [
        {
          "name": "stdout",
          "output_type": "stream",
          "text": [
            "10 20 40 50\n"
          ]
        }
      ],
      "source": [
        "L=[10,20,30,40,50]\n",
        "del L[2]\n",
        "print(*L)"
      ]
    },
    {
      "cell_type": "code",
      "execution_count": null,
      "metadata": {
        "colab": {
          "base_uri": "https://localhost:8080/"
        },
        "id": "h4Qatrk55W8I",
        "outputId": "ae5e1e71-03d4-4b4f-d668-fc82430b2b03"
      },
      "outputs": [
        {
          "name": "stdout",
          "output_type": "stream",
          "text": [
            "10 30 40 50\n"
          ]
        }
      ],
      "source": [
        "L=[10,20,30,40,50]\n",
        "L.remove(20)\n",
        "print(*L)"
      ]
    },
    {
      "cell_type": "code",
      "execution_count": null,
      "metadata": {
        "colab": {
          "base_uri": "https://localhost:8080/"
        },
        "id": "wauxRJGY5f2g",
        "outputId": "90fcbf8c-4433-41d9-9c94-47a6061c82b9"
      },
      "outputs": [
        {
          "name": "stdout",
          "output_type": "stream",
          "text": [
            "5\n",
            "6\n"
          ]
        }
      ],
      "source": [
        "L=[10,20,30,40,50]\n",
        "str1=\"python\"\n",
        "print(len(L))\n",
        "print(len(str1))"
      ]
    },
    {
      "cell_type": "code",
      "execution_count": null,
      "metadata": {
        "colab": {
          "base_uri": "https://localhost:8080/"
        },
        "id": "jQroSW_K5vrw",
        "outputId": "700bac50-1168-4f55-9265-2322931543d6"
      },
      "outputs": [
        {
          "name": "stdout",
          "output_type": "stream",
          "text": [
            "50\n",
            "30\n",
            "50\n"
          ]
        }
      ],
      "source": [
        "L=[10,20,30,40,50]\n",
        "x=L.pop()\n",
        "print(x)\n",
        "y=L.pop(2)\n",
        "print(y)\n",
        "print(x)"
      ]
    },
    {
      "cell_type": "code",
      "execution_count": null,
      "metadata": {
        "colab": {
          "base_uri": "https://localhost:8080/"
        },
        "id": "pRY5RObb6Alh",
        "outputId": "b54fe969-1e17-4fb0-b86a-cab2aa2f6fe3"
      },
      "outputs": [
        {
          "name": "stdout",
          "output_type": "stream",
          "text": [
            "10 20 30 40 50 "
          ]
        }
      ],
      "source": [
        "L=[10,20,30,40,50]\n",
        "for i in range(len(L)):\n",
        "    print(L[i],end=\" \")"
      ]
    },
    {
      "cell_type": "code",
      "execution_count": null,
      "metadata": {
        "colab": {
          "base_uri": "https://localhost:8080/"
        },
        "id": "275eQQo46bDg",
        "outputId": "b494c086-062f-4f24-d811-d16b91822542"
      },
      "outputs": [
        {
          "name": "stdout",
          "output_type": "stream",
          "text": [
            "10 20 30 40 50 "
          ]
        }
      ],
      "source": [
        "L=[10,20,30,40,50]\n",
        "for ele in L:\n",
        "    print(ele,end=\" \")"
      ]
    },
    {
      "cell_type": "code",
      "execution_count": null,
      "metadata": {
        "colab": {
          "base_uri": "https://localhost:8080/"
        },
        "id": "7KIposUb6tMJ",
        "outputId": "43081e49-b876-45c2-fd85-8f34a49ef7da"
      },
      "outputs": [
        {
          "name": "stdout",
          "output_type": "stream",
          "text": [
            "i   l o v e   p y t h o n "
          ]
        }
      ],
      "source": [
        "str1=\"i love python\"\n",
        "for i in range(len(str1)):\n",
        "    print(str1[i],end=\" \")"
      ]
    },
    {
      "cell_type": "code",
      "execution_count": null,
      "metadata": {
        "colab": {
          "base_uri": "https://localhost:8080/"
        },
        "id": "7IumInpk6umh",
        "outputId": "62688da7-fccd-4e45-d457-285deb607b89"
      },
      "outputs": [
        {
          "name": "stdout",
          "output_type": "stream",
          "text": [
            "i   l o v e   p y t h o n "
          ]
        }
      ],
      "source": [
        "str1=\"i love python\"\n",
        "for ele in str1:\n",
        "    print(ele,end=\" \")"
      ]
    },
    {
      "cell_type": "code",
      "execution_count": null,
      "metadata": {
        "colab": {
          "base_uri": "https://localhost:8080/"
        },
        "id": "LOpJgj2O69Kh",
        "outputId": "75988f2a-6401-49b8-d3b9-be75fd74f5e8"
      },
      "outputs": [
        {
          "name": "stdout",
          "output_type": "stream",
          "text": [
            "i### ###l###o###v###e### ###p###y###t###h###o###n <class 'str'>\n"
          ]
        }
      ],
      "source": [
        "str1=\"i love python\"\n",
        "x=\"###\".join(str1)\n",
        "print(x,type(x))"
      ]
    },
    {
      "cell_type": "code",
      "execution_count": null,
      "metadata": {
        "colab": {
          "base_uri": "https://localhost:8080/"
        },
        "id": "-Gp3ht4yOKBZ",
        "outputId": "a47b47ac-c8b1-43e1-db29-ef0e6479f29e"
      },
      "outputs": [
        {
          "name": "stdout",
          "output_type": "stream",
          "text": [
            "10 20 30 40 50 <class 'str'>\n"
          ]
        }
      ],
      "source": [
        "l=[10,20,30,40,50]\n",
        "x=\" \".join(map(str,l))\n",
        "print(x,type(x))"
      ]
    },
    {
      "cell_type": "code",
      "execution_count": null,
      "metadata": {
        "colab": {
          "base_uri": "https://localhost:8080/"
        },
        "id": "hqo8GtZHOfbP",
        "outputId": "9ef66991-8888-4d4a-91f6-56189e4de08e"
      },
      "outputs": [
        {
          "name": "stdout",
          "output_type": "stream",
          "text": [
            "['a', 'l', 'e', 'e', 'n', 'a'] <class 'list'>\n",
            "['a', 'l', 'e', 'e', 'n', 'a'] <class 'str'>\n",
            "aleena <class 'str'>\n"
          ]
        }
      ],
      "source": [
        "inp_str=\"aleena\"\n",
        "str_list=list(inp_str)\n",
        "print(str_list,type(str_list))\n",
        "str1=str(str_list)\n",
        "print(str1,type(str1))\n",
        "str2=\"\".join(str_list)\n",
        "print(str2,type(str2))"
      ]
    },
    {
      "cell_type": "code",
      "execution_count": null,
      "metadata": {
        "colab": {
          "base_uri": "https://localhost:8080/"
        },
        "id": "mJJc2-GtPAKv",
        "outputId": "8fcaf58b-6a72-40f9-d906-f55c1d33ae64"
      },
      "outputs": [
        {
          "name": "stdout",
          "output_type": "stream",
          "text": [
            "['aleena', 'paul']\n"
          ]
        }
      ],
      "source": [
        "inp_str=\"aleena paul\"\n",
        "str_list=inp_str.split()\n",
        "print(str_list)"
      ]
    },
    {
      "cell_type": "code",
      "execution_count": null,
      "metadata": {
        "colab": {
          "base_uri": "https://localhost:8080/"
        },
        "id": "f9apBK2VPO4n",
        "outputId": "ccec32a6-3991-45b1-9958-ae12c057dd18"
      },
      "outputs": [
        {
          "name": "stdout",
          "output_type": "stream",
          "text": [
            "[10, 20, 30, 40, 50]\n",
            "[50, 40, 30, 20, 10]\n"
          ]
        }
      ],
      "source": [
        "l1=[10,20,30,40,50]\n",
        "l2=l1[::-1]\n",
        "print(l1)\n",
        "print(l2)"
      ]
    },
    {
      "cell_type": "code",
      "execution_count": null,
      "metadata": {
        "colab": {
          "base_uri": "https://localhost:8080/"
        },
        "id": "zKe823QGPfp_",
        "outputId": "24bfa925-aa51-41df-d828-e108284a4d77"
      },
      "outputs": [
        {
          "name": "stdout",
          "output_type": "stream",
          "text": [
            "[10, 20, 30, 40, 50]\n",
            "[10, 20, 30, 40, 50]\n",
            "[50, 40, 30, 20, 10]\n"
          ]
        }
      ],
      "source": [
        "l1=[10,20,30,40,50]\n",
        "l2=sorted(l1)\n",
        "print(l1)\n",
        "print(l2)\n",
        "l3=sorted(l1,reverse=True)\n",
        "print(l3)"
      ]
    },
    {
      "cell_type": "code",
      "execution_count": null,
      "metadata": {
        "colab": {
          "base_uri": "https://localhost:8080/"
        },
        "id": "XhVmjyipPxmH",
        "outputId": "d74c96b1-88ff-402b-b2fb-b59ed58ea06d"
      },
      "outputs": [
        {
          "name": "stdout",
          "output_type": "stream",
          "text": [
            "aneela\n"
          ]
        }
      ],
      "source": [
        "str1=\"aleena\"\n",
        "str2=str1[::-1]\n",
        "print(str2)"
      ]
    },
    {
      "cell_type": "code",
      "execution_count": null,
      "metadata": {
        "colab": {
          "base_uri": "https://localhost:8080/"
        },
        "id": "VWHn2dE3P88_",
        "outputId": "7f36c2b4-381f-4e31-b260-1830ac23f3d9"
      },
      "outputs": [
        {
          "name": "stdout",
          "output_type": "stream",
          "text": [
            "['A', 'B', 'E', 'F', 'F', 'G', 'G', 'H', 'S']\n",
            "['S', 'H', 'G', 'G', 'F', 'F', 'E', 'B', 'A']\n",
            "ABEFFGGHS\n",
            "SHGGFFEBA\n"
          ]
        }
      ],
      "source": [
        "str1=\"EBAFGSGFH\"\n",
        "l1=sorted(str1)\n",
        "print(l1)\n",
        "l2=sorted(str1,reverse=True)\n",
        "print(l2)\n",
        "str2=\"\".join(l1)\n",
        "print(str2)\n",
        "str3=\"\".join(l2)\n",
        "print(str3)"
      ]
    },
    {
      "cell_type": "code",
      "execution_count": null,
      "metadata": {
        "colab": {
          "base_uri": "https://localhost:8080/"
        },
        "id": "mTo-9y5NQwVD",
        "outputId": "6956a19d-113a-4df8-b3cf-b79ac15be5d2"
      },
      "outputs": [
        {
          "name": "stdout",
          "output_type": "stream",
          "text": [
            "3\n",
            "2\n",
            "1\n",
            "2\n"
          ]
        }
      ],
      "source": [
        "l=[30,555,30,40,30,555]\n",
        "str1=\"python python\"\n",
        "print(l.count(30))\n",
        "print(str1.count(\"th\"))\n",
        "print(l.index(555))\n",
        "print(str1.index(\"th\"))"
      ]
    },
    {
      "cell_type": "code",
      "execution_count": null,
      "metadata": {
        "colab": {
          "base_uri": "https://localhost:8080/"
        },
        "id": "PmetSCJ5RXfX",
        "outputId": "4b42f507-5e0a-4242-91c8-1e5e82f15425"
      },
      "outputs": [
        {
          "name": "stdout",
          "output_type": "stream",
          "text": [
            "3\n",
            "40 50 10 20 30\n"
          ]
        }
      ],
      "source": [
        "p=int(input())\n",
        "l=[10,20,30,40,50]\n",
        "l=l[p:]+l[:p]\n",
        "print(*l)"
      ]
    },
    {
      "cell_type": "code",
      "execution_count": null,
      "metadata": {
        "colab": {
          "base_uri": "https://localhost:8080/"
        },
        "id": "LeNusjglRqB_",
        "outputId": "14d51079-a3d1-4a59-d205-bc51bb5ed621"
      },
      "outputs": [
        {
          "name": "stdout",
          "output_type": "stream",
          "text": [
            "2\n",
            "40 50 10 20 30\n"
          ]
        }
      ],
      "source": [
        "p=int(input())\n",
        "l=[10,20,30,40,50]\n",
        "l=l[-p:]+l[:-p]\n",
        "print(*l)"
      ]
    },
    {
      "cell_type": "code",
      "execution_count": null,
      "metadata": {
        "colab": {
          "base_uri": "https://localhost:8080/"
        },
        "id": "RLjvLegjR38P",
        "outputId": "8b56f594-a4e1-42cb-9018-232744b1a0df"
      },
      "outputs": [
        {
          "name": "stdout",
          "output_type": "stream",
          "text": [
            "[20, 30, 40]\n",
            "[10, 20, 30, 40]\n",
            "[20, 30, 40, 50]\n",
            "[50, 40, 30]\n",
            "[10, 20, 30, 40, 50]\n",
            "[10, 20, 30, 40, 50]\n",
            "[50, 40, 30, 20, 10]\n"
          ]
        }
      ],
      "source": [
        "l=[10,20,30,40,50]\n",
        "print(l[1:4])\n",
        "print(l[:4])\n",
        "print(l[1:])\n",
        "print(l[4:1:-1])\n",
        "print(l[::])\n",
        "l1=l[::-1]\n",
        "print(l)\n",
        "print(l1)\n"
      ]
    },
    {
      "cell_type": "code",
      "execution_count": null,
      "metadata": {
        "colab": {
          "base_uri": "https://localhost:8080/"
        },
        "id": "uwihk3LvSZ0R",
        "outputId": "31461bb3-cf3c-4ef9-ee4a-394a81b4799e"
      },
      "outputs": [
        {
          "name": "stdout",
          "output_type": "stream",
          "text": [
            "lee\n",
            "alee\n",
            "leena\n",
            "nee\n",
            "aleena\n",
            "aleena\n",
            "aneela\n"
          ]
        }
      ],
      "source": [
        "str1=\"aleena\"\n",
        "print(str1[1:4])\n",
        "print(str1[:4])\n",
        "print(str1[1:])\n",
        "print(str1[4:1:-1])\n",
        "print(str1[::])\n",
        "str2=str1[::-1]\n",
        "print(str1)\n",
        "print(str2)"
      ]
    },
    {
      "cell_type": "code",
      "execution_count": null,
      "metadata": {
        "colab": {
          "base_uri": "https://localhost:8080/"
        },
        "id": "EkSfuaedSvlZ",
        "outputId": "8c5e8b2f-222c-41d3-86cd-c7668c034ec0"
      },
      "outputs": [
        {
          "name": "stdout",
          "output_type": "stream",
          "text": [
            "A 1 one\n",
            "B 2 two\n",
            "C 3 three\n",
            "D 3 three\n"
          ]
        }
      ],
      "source": [
        "l1=['A','B','C','D','E']\n",
        "l2=[1,2,3,3,10]\n",
        "l3=[\"one\",\"two\",\"three\",\"three\"]\n",
        "\n",
        "for ele1,ele2,ele3 in zip(l1,l2,l3):\n",
        "    print(ele1,ele2,ele3)\n"
      ]
    },
    {
      "cell_type": "code",
      "execution_count": null,
      "metadata": {
        "colab": {
          "base_uri": "https://localhost:8080/"
        },
        "id": "pxFE3fDiTT23",
        "outputId": "7895824e-ec12-4ca3-e906-9ba0ba15f448"
      },
      "outputs": [
        {
          "name": "stdout",
          "output_type": "stream",
          "text": [
            "yes,its a substring\n"
          ]
        }
      ],
      "source": [
        "str1=\"i love python\"\n",
        "if 'lov' in str1:\n",
        "    print(\"yes,its a substring\")\n",
        "else:\n",
        "    print(\"no,its not a substring\")"
      ]
    },
    {
      "cell_type": "code",
      "execution_count": null,
      "metadata": {
        "colab": {
          "base_uri": "https://localhost:8080/"
        },
        "id": "zqluZf8CTuFX",
        "outputId": "3e3de089-fdc1-47a4-9011-7031b0605f0e"
      },
      "outputs": [
        {
          "name": "stdout",
          "output_type": "stream",
          "text": [
            " lv pythn\n"
          ]
        }
      ],
      "source": [
        "str1=\"i love python\"\n",
        "outstr=\"\"\n",
        "for i in range(len(str1)):\n",
        "  if str1[i] not in \"AEIOUaeiou\":\n",
        "    outstr=outstr+str1[i]\n",
        "print(outstr)"
      ]
    },
    {
      "cell_type": "markdown",
      "metadata": {
        "id": "QAX5lPKcUXjG"
      },
      "source": [
        "1)write code for traversing a list from left to right and print every elemnt with a space separation"
      ]
    },
    {
      "cell_type": "code",
      "execution_count": null,
      "metadata": {
        "colab": {
          "base_uri": "https://localhost:8080/"
        },
        "id": "0_vTPL8NU0kH",
        "outputId": "04ca28a1-bc31-4a32-b096-afb0920fa252"
      },
      "outputs": [
        {
          "name": "stdout",
          "output_type": "stream",
          "text": [
            "10 20 30 40 50 60 70 80 90 "
          ]
        }
      ],
      "source": [
        "L=[10,20,30,40,50,60,70,80,90]\n",
        "for i in range(len(L)):\n",
        "    print(L[i],end=\" \")"
      ]
    },
    {
      "cell_type": "markdown",
      "metadata": {
        "id": "QkX52G1xVyhV"
      },
      "source": [
        "2)write code for traversing a list from left to right and print every elemnt with a hyphen separation"
      ]
    },
    {
      "cell_type": "code",
      "execution_count": null,
      "metadata": {
        "colab": {
          "base_uri": "https://localhost:8080/"
        },
        "id": "cAYF28fOVsiv",
        "outputId": "119b5b71-b47a-4bb3-ce78-62ad231dee98"
      },
      "outputs": [
        {
          "name": "stdout",
          "output_type": "stream",
          "text": [
            "10-20-30-40-50-60-70-80-90\n"
          ]
        }
      ],
      "source": [
        "L=[10,20,30,40,50,60,70,80,90]\n",
        "print(\"-\".join(map(str,L)))"
      ]
    },
    {
      "cell_type": "markdown",
      "metadata": {
        "id": "cgOeGMFAV4I_"
      },
      "source": [
        "3) write code for traversing a list from left to right and print every alternate elemnts witha space separation"
      ]
    },
    {
      "cell_type": "code",
      "execution_count": null,
      "metadata": {
        "colab": {
          "base_uri": "https://localhost:8080/"
        },
        "id": "NVs_IDc-W3G3",
        "outputId": "fffc0870-a759-443c-edd1-af3e76c1580a"
      },
      "outputs": [
        {
          "name": "stdout",
          "output_type": "stream",
          "text": [
            "10 30 50 70 90 "
          ]
        }
      ],
      "source": [
        "L=[10,20,30,40,50,60,70,80,90]\n",
        "for i in range(0,len(L)):\n",
        "    if i%2==0:\n",
        "        print(L[i],end=\" \")"
      ]
    },
    {
      "cell_type": "markdown",
      "metadata": {
        "id": "SNyQrS7MW6PX"
      },
      "source": [
        " 4)write code for traversing a list from right to left and print every alternate elemnts witha space separation"
      ]
    },
    {
      "cell_type": "code",
      "execution_count": null,
      "metadata": {
        "colab": {
          "base_uri": "https://localhost:8080/"
        },
        "id": "6jHiHSCmXkhP",
        "outputId": "fb4d48e3-512f-4a22-963f-a5f788805ebe"
      },
      "outputs": [
        {
          "name": "stdout",
          "output_type": "stream",
          "text": [
            "90 70 50 30 10 "
          ]
        }
      ],
      "source": [
        "L=[10,20,30,40,50,60,70,80,90]\n",
        "for i in range(len(L)-1,-1,-2):\n",
        "\n",
        "    print(L[i],end=\" \")"
      ]
    },
    {
      "cell_type": "markdown",
      "metadata": {
        "id": "dzLVeD-BYsxo"
      },
      "source": [
        "5)write code for swapping every alternative pairs of a list and  print the list from left to right"
      ]
    },
    {
      "cell_type": "code",
      "execution_count": null,
      "metadata": {
        "colab": {
          "base_uri": "https://localhost:8080/"
        },
        "id": "7Yyj_ljMaPfX",
        "outputId": "6fb6fa5c-5e2e-44f2-f9d6-4caeaffdd3d6"
      },
      "outputs": [
        {
          "name": "stdout",
          "output_type": "stream",
          "text": [
            "20 10 40 30 60 50 80 70 90\n"
          ]
        }
      ],
      "source": [
        "L=[10,20,30,40,50,60,70,80,90]\n",
        "for i in range(0,len(L)-1,2):\n",
        "    tmp=L[i]\n",
        "    L[i]=L[i+1]\n",
        "    L[i+1]=tmp\n",
        "print(*L)"
      ]
    },
    {
      "cell_type": "markdown",
      "metadata": {
        "id": "7SxHjq6GqJgW"
      },
      "source": [
        "6)write code for printing pairs of left most and right most e;emn=ents from the given list.if any no. is not getting pair ,you can print '#'"
      ]
    },
    {
      "cell_type": "code",
      "execution_count": null,
      "metadata": {
        "colab": {
          "base_uri": "https://localhost:8080/"
        },
        "id": "iK4YL7JRqU8d",
        "outputId": "0a7a0d1b-d533-419d-cf48-1afe8b7ae879"
      },
      "outputs": [
        {
          "name": "stdout",
          "output_type": "stream",
          "text": [
            "10 90\n",
            "20 80\n",
            "30 70\n",
            "40 60\n",
            "50 #\n"
          ]
        }
      ],
      "source": [
        "L=[10,20,30,40,50,60,70,80,90]\n",
        "i=0;j=len(L)-1\n",
        "while(i<j):\n",
        "    print(L[i],L[j])\n",
        "    i=i+1\n",
        "    j=j-1\n",
        "if(i==j):\n",
        "    print(L[i],\"#\")"
      ]
    },
    {
      "cell_type": "markdown",
      "metadata": {
        "id": "I3XUFHZErqyu"
      },
      "source": [
        "7)write code for finding the sum of all even integer numbers in the given string"
      ]
    },
    {
      "cell_type": "code",
      "execution_count": null,
      "metadata": {
        "colab": {
          "background_save": true,
          "base_uri": "https://localhost:8080/"
        },
        "id": "YLiV5Mr4u-Be",
        "outputId": "e0b579f4-cde7-4589-fcb4-207681950b3a"
      },
      "outputs": [
        {
          "name": "stdout",
          "output_type": "stream",
          "text": [
            "10\n"
          ]
        }
      ],
      "source": [
        "str1=input()\n",
        "esum=0\n",
        "for i in range(len(str1)):\n",
        "    if str1[i].isdigit()==True:\n",
        "        if int(str1[i])%2==0:\n",
        "            esum=esum+int(str1[i])\n",
        "\n",
        "print(esum)\n",
        "\n",
        "\n",
        "\n",
        "\n",
        "\n",
        "#another method\n",
        "\n",
        "str1=input()\n",
        "esum=0\n",
        "for i in range(len(str1)):\n",
        "    if str1[i].isdigit() and int(str1[i])%2==0:\n",
        "            esum=esum+int(str1[i])\n",
        "\n",
        "print(esum)"
      ]
    },
    {
      "cell_type": "markdown",
      "metadata": {
        "id": "3ZVQUso4w3bv"
      },
      "source": [
        "8)write code for traversing a string from left to right and if a character 'Z' is present,then it should be replaced with character '#' and finally print the modified string"
      ]
    },
    {
      "cell_type": "code",
      "execution_count": null,
      "metadata": {
        "id": "KJa7urjuy7OJ"
      },
      "outputs": [],
      "source": [
        "str1=\"ZABCZZZDEFZ\"\n",
        "L=list(str1) #covert string to list\n",
        "print(L)\n",
        "for i in range(len(L)):\n",
        "    if(L[i]=='Z'):\n",
        "        L[i]='#'\n",
        "print(L)\n",
        "str1=\"\".join(L) #convert list of string in to string\n",
        "print(str1)\n",
        "\n",
        "\n",
        "#ANOTHER MENTHOD\n",
        "\n",
        "str1=\"ZABCZZZDEFZ\"\n",
        "print(str1.replace(\"Z\",\"#\"))"
      ]
    },
    {
      "cell_type": "markdown",
      "metadata": {
        "id": "55mW61bz0WQN"
      },
      "source": [
        "9)write code for finding the length of the last word of given input string"
      ]
    },
    {
      "cell_type": "code",
      "execution_count": null,
      "metadata": {
        "id": "eGfmtFxT1ojf"
      },
      "outputs": [],
      "source": [
        "inpstr=input()\n",
        "count=0;\n",
        "for i in range(len(inpstr)-1,-1,-1):\n",
        "    if inpstr[i].isspace()==True:\n",
        "        break\n",
        "    else:\n",
        "        count=count+1\n",
        "print(count)\n",
        "\n",
        "\n",
        "#another method\n",
        "\n",
        "count=0;\n",
        "for i in range(len(inpstr)-1,-1,-1):\n",
        "    if inpstr[i]==\" \":\n",
        "        break\n",
        "    else:\n",
        "        count=count+1\n",
        "print(count)"
      ]
    },
    {
      "cell_type": "markdown",
      "metadata": {
        "id": "ekRs1jrO3J3O"
      },
      "source": [
        "10)write code for printing the reverse of all the words of given input string"
      ]
    },
    {
      "cell_type": "code",
      "execution_count": null,
      "metadata": {
        "id": "Mfx79TpX4Bp_"
      },
      "outputs": [],
      "source": [
        "inpstr=input()\n",
        "L=inpstr.split()\n",
        "l2=L[::-1]\n",
        "#l3=\" \".join(l2)\n",
        "print(*l3)"
      ]
    },
    {
      "cell_type": "markdown",
      "source": [
        "write code for printing pairs of left most and right most elements from the given list.if any no. is not getting pair ,"
      ],
      "metadata": {
        "id": "Jda70Sy-btKF"
      }
    },
    {
      "cell_type": "markdown",
      "source": [],
      "metadata": {
        "id": "-ou4BdBdeCRt"
      }
    },
    {
      "cell_type": "markdown",
      "source": [
        "Write code for taking a string input(decimal no.) and convert all the digits in it, to each of its respective place values and print the output as a string in the specified format"
      ],
      "metadata": {
        "id": "vVb9eIexRmOu"
      }
    },
    {
      "cell_type": "code",
      "source": [
        "str1=input()\n",
        "out=[]\n",
        "x=0\n",
        "n=int(str1)\n",
        "while n>0:\n",
        "    ld=n%10\n",
        "    if ld>0:\n",
        "        out=[str(ld*10**x)]+out\n",
        "    n=n//10\n",
        "    x=x+1\n",
        "print(\" + \".join(out))\n",
        "\n",
        "\n",
        "\n",
        "#another method\n",
        "\n",
        "\n",
        "nstr=input()\n",
        "strlist=list(nstr)\n",
        "n=len(strlist);\n",
        "x=n-1\n",
        "for i in range(n):\n",
        "    curval=int(strlist[i])*10**x\n",
        "    if curval>0:\n",
        "        if i<n-1:\n",
        "            print(curval,end=\" + \")\n",
        "        else:\n",
        "            print(curval)\n",
        "    x=x-1"
      ],
      "metadata": {
        "colab": {
          "base_uri": "https://localhost:8080/"
        },
        "id": "cQK6WtszRnED",
        "outputId": "410c3dd6-2bd9-41f1-de36-248cfc0000d9"
      },
      "execution_count": null,
      "outputs": [
        {
          "output_type": "stream",
          "name": "stdout",
          "text": [
            "3472\n",
            "3000 + 400 + 70 + 2\n"
          ]
        }
      ]
    },
    {
      "cell_type": "markdown",
      "source": [
        "In a database there are 'n' students. The fields of the table are name, age, grade, and gender separated by comma. Your task is to print the student's names who are greater than or equal to 20 years old and print the average grade of female candidates using ASCII values of female candidate's grades.\n",
        "Get the value of 'n' as the first line of input.\n",
        "Get 'n' student's details, as comma separated input and each input in a newline."
      ],
      "metadata": {
        "id": "qsz43IOH32yU"
      }
    },
    {
      "cell_type": "code",
      "source": [
        "n=int(input())\n",
        "gradesum=0\n",
        "count=0\n",
        "outlist=[]\n",
        "for i in range(n):\n",
        "    temlist=input().split(\",\")\n",
        "    if int(temlist[1]>='20'):\n",
        "        outlist.append(temlist[0])\n",
        "    if (temlist[3]==\"FEMALE\"):\n",
        "        gradesum+=ord(temlist[2])\n",
        "        count+=1\n",
        "if outlist:\n",
        "    print(*outlist)\n",
        "else:\n",
        "    print(\"ALL INELIGIBLE\")\n",
        "if count>0:\n",
        "    femavg=gradesum/count\n",
        "    print(f\"{femavg:.2f}\")\n",
        "else:\n",
        "    print(\"NO FEMALE STUDENTS\")"
      ],
      "metadata": {
        "id": "iWMXWYqB32Af"
      },
      "execution_count": null,
      "outputs": []
    },
    {
      "cell_type": "markdown",
      "source": [
        "write code for printing all substrings of given i/p string"
      ],
      "metadata": {
        "id": "gZ-spqbRvQ-w"
      }
    },
    {
      "cell_type": "code",
      "source": [
        "str1=\"ABCD\"\n",
        "for i in range(len(str1)):\n",
        "    tmpstr=\"\"\n",
        "    for j in range(i,len(str1)):\n",
        "        tmpstr+=str1[j]\n",
        "        print(tmpstr)"
      ],
      "metadata": {
        "id": "FqmaWGYyvYlf"
      },
      "execution_count": null,
      "outputs": []
    },
    {
      "cell_type": "markdown",
      "source": [
        "write code for finding whether an i/p string is palindrome"
      ],
      "metadata": {
        "id": "LABcrp46yKWx"
      }
    },
    {
      "cell_type": "code",
      "source": [
        "str1=input().upper()\n",
        "i=0;j=len(str1)-1;flag=0\n",
        "while i<j:\n",
        "    if str1[i]!=str1[j]:\n",
        "        flag=1\n",
        "    break\n",
        "if flag==0:\n",
        "    print(\"PALINDROME\")\n",
        "else:\n",
        "    print(\"NOT PALINDROME\")\n",
        "\n",
        "\n",
        "\n",
        "    #another method\n",
        "str1=input().upper()\n",
        "if str1==str1[::-1]:\n",
        "    print(\"palindrome\")\n",
        "else:\n",
        "    print(\"not palindrome\")"
      ],
      "metadata": {
        "id": "eInAfag_06Ba"
      },
      "execution_count": null,
      "outputs": []
    },
    {
      "cell_type": "markdown",
      "source": [
        "write the code for printing all the palindromic substrings of an i/p string"
      ],
      "metadata": {
        "id": "wlOxKwrV07CP"
      }
    },
    {
      "cell_type": "code",
      "source": [
        "inpstr=\"aaabaa\"\n",
        "n=len(inpstr)\n",
        "for i in range(n):\n",
        "    tmpstr=\"\"\n",
        "    for j in range(i,n):\n",
        "        tmpstr+=inpstr[j]\n",
        "        if tmpstr==tmpstr[::-1]:\n",
        "            print(tmpstr)"
      ],
      "metadata": {
        "id": "fqBXZ_Tr3QZg"
      },
      "execution_count": null,
      "outputs": []
    },
    {
      "cell_type": "markdown",
      "source": [
        "write code for checking whether a string is a subsequence of another string"
      ],
      "metadata": {
        "id": "8OjGw_Ee4-6B"
      }
    },
    {
      "cell_type": "code",
      "source": [
        "str1=\"MATHEW KURIAN\"\n",
        "str2=\"MWKR\"\n",
        "i=0;j=0\n",
        "while i<len(str1) and j<len(str2):\n",
        "    if str1[i]!=str2[j]:\n",
        "        i+=1\n",
        "    else:\n",
        "        j+=1\n",
        "        i+=1\n",
        "if j==len(str2):\n",
        "    print(\"YES\")\n",
        "else:\n",
        "    print(\"NO\")"
      ],
      "metadata": {
        "id": "znCt0z956RHy"
      },
      "execution_count": null,
      "outputs": []
    },
    {
      "cell_type": "markdown",
      "source": [
        "write code for finding the smallest and largest elemnt from the given i/p array without using any inbuilt function"
      ],
      "metadata": {
        "id": "8zJOFLvp-a3x"
      }
    },
    {
      "cell_type": "code",
      "source": [
        "L=[30,20,10,10,60,60,50,40]\n",
        "mi=ma=L[0]\n",
        "for i in range(1,len(L)):\n",
        "    if mi>L[i]:\n",
        "        mi=L[i]\n",
        "    if ma<L[i]:\n",
        "        ma=L[i]\n",
        "print(mi,ma)"
      ],
      "metadata": {
        "id": "Hio4NP7BAdP6"
      },
      "execution_count": null,
      "outputs": []
    },
    {
      "cell_type": "markdown",
      "source": [
        "write code for finding the second largest element from the given input array"
      ],
      "metadata": {
        "id": "7zTucwOPAqKg"
      }
    },
    {
      "cell_type": "code",
      "source": [
        "L=[100,10,50,25,50,100,10,25]\n",
        "ma=max(L)\n",
        "maxcount=L.count(ma)\n",
        "for i in range(maxcount):\n",
        "    L.remove(ma)\n",
        "\n",
        "print(max(L))\n",
        "\n",
        "\n",
        "\n",
        "#another method\n",
        "\n",
        "L=[100,10,50,25,50,100,10,25]\n",
        "L=sorted(L);flag=0\n",
        "for i in range(len(L)-1,0,-1):\n",
        "    if L[i]!=L[i-1]:\n",
        "        flag=1\n",
        "\n",
        "        break\n",
        "if flag==1:\n",
        "    print(\"2nd largest element is :\",L[i-1])\n",
        "else:\n",
        "    print(\"no 2nd largest element\")\n",
        "\n",
        "\n",
        "\n",
        "    #another method\n",
        "\n",
        "\n",
        "    L=[100,10,50,25,50,100,10,25]\n",
        "flar=float('-inf');slar=float('-inf')\n",
        "for i in range(len(L)):\n",
        "    if flar<L[i]:\n",
        "        slar=flar\n",
        "        flar=L[i]\n",
        "    elif slar<L[i] and L[i]<flar:\n",
        "        slar=L[i]\n",
        "print(\"second largest element:\",slar)"
      ],
      "metadata": {
        "id": "lYoOVXtVKebi"
      },
      "execution_count": null,
      "outputs": []
    },
    {
      "cell_type": "markdown",
      "source": [
        "write code for moving all zeros to the end of the array and append the avg of all non zero elements at the last ,non zero values relative order in the array should be maintained"
      ],
      "metadata": {
        "id": "VxeM3JczTAxi"
      }
    },
    {
      "cell_type": "code",
      "source": [
        "L=[10,0,30,0,20]\n",
        "cnt=L.count(0)\n",
        "for i in range(cnt):\n",
        "    L.remove(0)\n",
        "avg=sum(L)//len(L)\n",
        "for i in range(cnt):\n",
        "    L.append(0)\n",
        "L.append(avg)\n",
        "print(*L)\n",
        "\n",
        "\n",
        "\n",
        "#another method\n",
        "\n",
        "\n",
        "L=[10,0,30,0,20]\n",
        "sum1=0;cnt=0;\n",
        "zeros=min(L)\n",
        "zcnt=L.count(zeros)\n",
        "for i in range(zcnt):\n",
        "    L.append(zeros)\n",
        "    L.remove(zeros)\n",
        "    sum1+=L[i]\n",
        "    cnt+=1\n",
        "    avg=sum1//cnt\n",
        "L.append(avg)\n",
        "print(*L)"
      ],
      "metadata": {
        "colab": {
          "base_uri": "https://localhost:8080/"
        },
        "id": "eFN7HqsRVQdl",
        "outputId": "3ab58eb0-d7e6-4094-95ca-d02557ea27af"
      },
      "execution_count": null,
      "outputs": [
        {
          "output_type": "stream",
          "name": "stdout",
          "text": [
            "10 30 20 0 0 20\n",
            "10 30 20 0 0 20\n"
          ]
        }
      ]
    },
    {
      "cell_type": "markdown",
      "source": [
        "write code for printing the last,10 digit numbers in the given string 'str1'(length of 'str1'>=10)as a string may contain digits,alphabets,delimiters etc"
      ],
      "metadata": {
        "id": "e9sJD9DKKfS4"
      }
    },
    {
      "cell_type": "code",
      "source": [
        "str1=\"987-af-6-gh-98743210,ppp,56789-rrr\"\n",
        "outstr=\"\"\n",
        "cnt=0\n",
        "for i in range(len(str1)-1,-1,-1):\n",
        "    if str1[i].isdigit()==True:\n",
        "        outstr+=str1[i]\n",
        "        cnt+=1\n",
        "    if cnt==10:\n",
        "        break\n",
        "\n",
        "print(outstr[::-1])"
      ],
      "metadata": {
        "id": "MVwagOwLqlS4"
      },
      "execution_count": null,
      "outputs": []
    },
    {
      "cell_type": "markdown",
      "source": [
        "an encoded string 10111011011110 is decoded as \"ACBD\""
      ],
      "metadata": {
        "id": "1ViA72qL1BtP"
      }
    },
    {
      "cell_type": "code",
      "source": [
        "inpstr=input()\n",
        "outstr=\"\";cnt=0\n",
        "for i in range(len(inpstr)):\n",
        "    if inpstr[i]=='0':\n",
        "        outstr+=chr(ord('A')-1+cnt)\n",
        "        cnt=0\n",
        "    elif inpstr[i]=='1':\n",
        "        cnt+=1\n",
        "    else:\n",
        "        print(\"invalid input\")\n",
        "print(outstr)\n",
        "\n",
        "\n",
        "\n",
        "\n",
        "#if the input starts with 0\n",
        "\n",
        "\n",
        "inpstr=input()\n",
        "outstr=\"\";cnt=0\n",
        "for i in range(len(inpstr)):\n",
        "    if i==0 and inpstr[i]=='0':\n",
        "        continue\n",
        "    if inpstr[i]=='0' and i!=0:\n",
        "        outstr+=chr(ord('A')-1+cnt)\n",
        "        cnt=0\n",
        "\n",
        "    elif inpstr[i]=='1':\n",
        "        cnt+=1\n",
        "    else:\n",
        "        print(\"invalid input\")\n",
        "print(outstr)"
      ],
      "metadata": {
        "id": "9cW1lZ3Qv4YN"
      },
      "execution_count": null,
      "outputs": []
    },
    {
      "cell_type": "markdown",
      "source": [
        "write code for removing all the vowels from the end of the given i/p string until a numeric constant occurs.print the modified string and the count of removed vowels .consider both lower and upper case"
      ],
      "metadata": {
        "id": "VyKjHMtV_vWI"
      }
    },
    {
      "cell_type": "code",
      "source": [
        "str1=\"A 1 E 2 i 3PU How Are You?\"\n",
        "\n",
        "outstr=\"\";vowcnt=0\n",
        "for i in range(len(str1)-1,-1,-1):\n",
        "    if str1[i].isdigit():\n",
        "        break\n",
        "    else:\n",
        "        if str1[i] in \"AEIOUaeiou\":\n",
        "            vowcnt+=1\n",
        "        else:\n",
        "            outstr=str1[i]+outstr\n",
        "outstr=str1[:i+1:1]+outstr\n",
        "print(outstr)\n",
        "print(vowcnt)"
      ],
      "metadata": {
        "colab": {
          "base_uri": "https://localhost:8080/"
        },
        "id": "FPuAH-ZF_-3I",
        "outputId": "c4581788-eda1-4e9d-d7e3-2fc983e7ef07"
      },
      "execution_count": null,
      "outputs": [
        {
          "output_type": "stream",
          "name": "stdout",
          "text": [
            "A 1 E 2 i 3P Hw r Y?\n",
            "6\n"
          ]
        }
      ]
    },
    {
      "cell_type": "markdown",
      "source": [],
      "metadata": {
        "id": "arwpzshzEllh"
      }
    },
    {
      "cell_type": "markdown",
      "source": [
        "write code for finding the next highest number using the same digits prsent in the input number\n",
        "\n",
        "2187"
      ],
      "metadata": {
        "id": "qV3I50PJAf74"
      }
    },
    {
      "cell_type": "code",
      "source": [
        "num=input()\n",
        "diglist=list(num)\n",
        "flag=0\n",
        "for j in range(len(diglist)-1,-1,-1):\n",
        "    for i in range(j-1,-1,-1):\n",
        "        if diglist[i]<diglist[j]:\n",
        "            flag=1\n",
        "            break\n",
        "    if flag==1:\n",
        "        break\n",
        "if flag==0:\n",
        "    print(\"not possible\")\n",
        "    exit()\n",
        "\n",
        "diglist[i],diglist[j]=diglist[j],diglist[i]\n",
        "diglist=diglist[:i+1]+sorted(diglist[i+1: ])\n",
        "L=\"\".join(diglist)\n",
        "print(L)"
      ],
      "metadata": {
        "id": "f9q0pgNGCacJ"
      },
      "execution_count": null,
      "outputs": []
    },
    {
      "cell_type": "markdown",
      "source": [
        "to check whether a given sentence is pangram or not"
      ],
      "metadata": {
        "id": "aVkNUVVx6nlt"
      }
    },
    {
      "cell_type": "code",
      "source": [
        "str1=\"The quick brown fox jumps over the lazy dog\"\n",
        "str1=str1.replace(\" \",\"\")\n",
        "str1=str1.lower()\n",
        "l1=set(str1)\n",
        "if len(l1)==26:\n",
        "    print(\"pangram\")\n",
        "else:\n",
        "    print(\"not a pangram\")"
      ],
      "metadata": {
        "colab": {
          "base_uri": "https://localhost:8080/"
        },
        "id": "EgXOM3sx6rGU",
        "outputId": "9499cda8-3457-4d88-ba09-90c99b2a34e0"
      },
      "execution_count": null,
      "outputs": [
        {
          "output_type": "stream",
          "name": "stdout",
          "text": [
            "pangram\n"
          ]
        }
      ]
    },
    {
      "cell_type": "markdown",
      "source": [
        "write a code for checking whether a given number is HAPPY NUMBER or not"
      ],
      "metadata": {
        "id": "JM6gGO4Z8sdl"
      }
    },
    {
      "cell_type": "code",
      "source": [
        "n=int(input())\n",
        "seen_num=set()\n",
        "while n!=1 and n not in seen_num:\n",
        "    seen_num.add(n)\n",
        "    sqrsum=0\n",
        "    while n>0:\n",
        "        ld=n%10\n",
        "        sqrsum+=ld**2\n",
        "        n=n//10\n",
        "    n=sqrsum\n",
        "if n==1:\n",
        "    print(\"happy number\")\n",
        "else:\n",
        "    print(\"not happy number\")"
      ],
      "metadata": {
        "colab": {
          "base_uri": "https://localhost:8080/"
        },
        "id": "QvbUD2ud80ZU",
        "outputId": "e9336c7a-cfb8-41b6-9126-ff94ee16430c"
      },
      "execution_count": null,
      "outputs": [
        {
          "output_type": "stream",
          "name": "stdout",
          "text": [
            "19\n",
            "happy number\n"
          ]
        }
      ]
    },
    {
      "cell_type": "markdown",
      "source": [
        "write code for finding the freq of each characters in the given i/p string using dictioanry and print each character and its freq in lexicographic order of the keys"
      ],
      "metadata": {
        "id": "BOugOYA5QnTp"
      }
    },
    {
      "cell_type": "code",
      "source": [
        "str1=\"@@MATHEW###MATHEW@@\"\n",
        "dict1={}\n",
        "\n",
        "for i in range(len(str1)):\n",
        "    if str1[i] in dict1:\n",
        "        dict1[str1[i]]=dict1[str1[i]]+1\n",
        "    else:\n",
        "        dict1[str1[i]]=1\n",
        "for key in sorted(dict1):\n",
        "    print(key,dict1[key])"
      ],
      "metadata": {
        "colab": {
          "base_uri": "https://localhost:8080/"
        },
        "id": "YNoFRVrLQ0BH",
        "outputId": "1e6d6128-e4fe-4910-acdf-5b1b364300ad"
      },
      "execution_count": null,
      "outputs": [
        {
          "output_type": "stream",
          "name": "stdout",
          "text": [
            "# 3\n",
            "@ 4\n",
            "A 2\n",
            "E 2\n",
            "H 2\n",
            "M 2\n",
            "T 2\n",
            "W 2\n"
          ]
        }
      ]
    },
    {
      "cell_type": "markdown",
      "source": [],
      "metadata": {
        "id": "8BT3HUavhwwY"
      }
    },
    {
      "cell_type": "markdown",
      "source": [
        "write code for finding the longest consecutive sequence from an array of unsorted integers"
      ],
      "metadata": {
        "id": "8EvpBRiKgLH4"
      }
    },
    {
      "cell_type": "code",
      "source": [
        "nums=[100,4,200,1,3,2]\n",
        "numset=set(nums)\n",
        "longestlen=0\n",
        "longestseq=[]\n",
        "for num in numset:\n",
        "    if num-1 not in numset:\n",
        "        currentnum=num\n",
        "        currentlongestlen=1\n",
        "        currentlongestseq=[num]\n",
        "        while currentnum + 1 in numset:\n",
        "            currentnum += 1\n",
        "            currentlongestlen += 1\n",
        "            currentlongestseq.append(currentnum)\n",
        "\n",
        "        if currentlongestlen > longestlen:\n",
        "            longestlen = currentlongestlen\n",
        "            longestseq = currentlongestseq\n",
        "print(*longestseq)"
      ],
      "metadata": {
        "colab": {
          "base_uri": "https://localhost:8080/"
        },
        "id": "D0m5HJDugTxL",
        "outputId": "a405ca7c-4c58-4c29-e94e-82fbac990cde"
      },
      "execution_count": null,
      "outputs": [
        {
          "output_type": "stream",
          "name": "stdout",
          "text": [
            "1 2 3 4\n"
          ]
        }
      ]
    },
    {
      "cell_type": "code",
      "source": [
        "n=\"22.56\"\n",
        "n=float(n)\n",
        "ix=int(n)\n",
        "print(ix)\n",
        "fx=n-ix\n",
        "print(round(fx,2))\n",
        "\n",
        "\n",
        "\n",
        "\n",
        "nt=11.15\n",
        "ot=10.45\n",
        "if nt-int(nt)<ot-int(ot):\n",
        "    nt+=.60-1\n",
        "diff=(nt-ot)\n",
        "print(round(diff,2))"
      ],
      "metadata": {
        "id": "6_6nrL_NFcRD"
      },
      "execution_count": null,
      "outputs": []
    },
    {
      "cell_type": "code",
      "source": [
        "estr=\"(08:00,09:45)(10:05,10:55)(11:10,11.45)(12:50,13:00)(14:10,17:00)\"\n",
        "dur=\"01:05\"\n",
        "dur=dur.replace(\":\",\".\")\n",
        "estr=estr.replace(\")(\",\" \")\n",
        "estr=estr.replace(\",\",\" \")\n",
        "estr=estr.replace(\":\",\".\")\n",
        "estr=estr[1:len(estr)-1]\n",
        "estr=estr.split()\n",
        "print(estr)\n",
        "for i in range(2,len(estr),2):\n",
        "    nt=float(estr[i]);ot=float(estr[i-1])\n",
        "    if nt-int(nt)<ot-int(ot):\n",
        "        nt+=.60-1\n",
        "    diff=nt-ot\n",
        "    if round(diff,2)>float(dur):\n",
        "        print(f\"{ot:.2f}\")\n",
        "        break"
      ],
      "metadata": {
        "id": "KwQ9QWAfP0RX",
        "outputId": "2d4fca65-0184-43a9-9dad-5fee09e032cd",
        "colab": {
          "base_uri": "https://localhost:8080/"
        }
      },
      "execution_count": null,
      "outputs": [
        {
          "output_type": "stream",
          "name": "stdout",
          "text": [
            "['08.00', '09.45', '10.05', '10.55', '11.10', '11.45', '12.50', '13.00', '14.10', '17.00']\n",
            "13.00\n"
          ]
        }
      ]
    }
  ],
  "metadata": {
    "colab": {
      "provenance": [],
      "authorship_tag": "ABX9TyMmq3F5BLfbwsj7qDEJrquB",
      "include_colab_link": true
    },
    "kernelspec": {
      "display_name": "Python 3",
      "name": "python3"
    },
    "language_info": {
      "name": "python"
    }
  },
  "nbformat": 4,
  "nbformat_minor": 0
}